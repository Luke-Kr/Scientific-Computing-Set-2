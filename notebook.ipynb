{
 "cells": [
  {
   "cell_type": "code",
   "execution_count": null,
   "metadata": {},
   "outputs": [],
   "source": [
    "import numpy as np\n",
    "import matplotlib.pyplot as plt\n",
    "import time\n",
    "\n",
    "# Import local modules\n",
    "from src.DLA import dla_simulation, init_mask, find_optimal_omega\n",
    "from src.monte_carlo import *\n",
    "from src.gray_scott import gray_scott_simulation\n"
   ]
  },
  {
   "cell_type": "markdown",
   "metadata": {},
   "source": [
    "### Define parameter settings for equation based DLA"
   ]
  },
  {
   "cell_type": "code",
   "execution_count": null,
   "metadata": {},
   "outputs": [],
   "source": [
    "# Set the parameters\n",
    "N = 100\n",
    "max_size = 1000\n",
    "tol = 1e-5\n",
    "omega = 1.8\n",
    "\n",
    "mask = init_mask(N)\n",
    "grid = np.zeros((N, N))\n",
    "grid[0, :] = 1.0"
   ]
  },
  {
   "cell_type": "markdown",
   "metadata": {},
   "source": [
    "### Run simulation and show example cluster"
   ]
  },
  {
   "cell_type": "code",
   "execution_count": null,
   "metadata": {},
   "outputs": [],
   "source": [
    "eta = 1.4\n",
    "mask_history, grid_history, _ = dla_simulation(omega, eta, grid, max_size, N, tol, mask)\n",
    "# animate the simulation\n",
    "fig, ax = plt.subplots()\n",
    "\n",
    "image = grid_history[-1]\n",
    "image[mask_history[-1]] = 10\n",
    "img = ax.imshow(image, cmap='viridis', alpha=1, vmin=0, vmax=1)\n",
    "plt.colorbar(img)\n",
    "\n",
    "plt.title(r'DLA simulation $\\eta = 1.4$')\n",
    "plt.axis('off')\n",
    "\n",
    "plt.show()\n"
   ]
  },
  {
   "cell_type": "markdown",
   "metadata": {},
   "source": [
    "### Perform parameter sweep over eta values"
   ]
  },
  {
   "cell_type": "code",
   "execution_count": null,
   "metadata": {},
   "outputs": [],
   "source": [
    "total_heights = []\n",
    "total_widths = []\n",
    "for eta in [0.1, 0.3, 0.5, 0.7, 0.9, 1.1, 1.3, 1.5]:\n",
    "    print(f\"eta = {eta}\")\n",
    "    local_heights = []\n",
    "    local_widths = []\n",
    "    for _ in range(10):\n",
    "        mask_history, grid_history, _ = dla_simulation(omega, eta, grid, max_size, N, tol, mask)\n",
    "        final_height = np.count_nonzero(np.any(mask_history[-1], axis=1))\n",
    "        final_width = np.count_nonzero(np.any(mask_history[-1], axis=0))\n",
    "        final_density = max_size / (final_height * final_width)\n",
    "        print(f\"Final density: {final_density}\")\n",
    "        \n",
    "        local_heights.append(final_height)\n",
    "        local_widths.append(final_width)\n",
    "    \n",
    "        mask = init_mask(N)\n",
    "        grid = np.zeros((N, N))\n",
    "        grid[0, :] = 1.0\n",
    "    total_heights.append(local_heights)\n",
    "    total_widths.append(local_widths)\n",
    "\n",
    "        \n"
   ]
  },
  {
   "cell_type": "markdown",
   "metadata": {},
   "source": [
    "### Plot results"
   ]
  },
  {
   "cell_type": "code",
   "execution_count": null,
   "metadata": {},
   "outputs": [],
   "source": [
    "# Plot the results\n",
    "fig, ax = plt.subplots(1, 3, figsize=(15, 5))\n",
    "\n",
    "# Height\n",
    "ax[0].plot([0.1, 0.3, 0.5, 0.7, 0.9, 1.1, 1.3, 1.5], np.mean(total_heights, axis=1), 'o-', label='Mean')\n",
    "ax[0].fill_between([0.1, 0.3, 0.5, 0.7, 0.9, 1.1, 1.3, 1.5], np.mean(total_heights, axis=1) - np.std(total_heights, axis=1), np.mean(total_heights, axis=1) + np.std(total_heights, axis=1), alpha=0.3, label='Standard deviation')\n",
    "ax[0].set_xlabel(r'$\\eta$')\n",
    "ax[0].set_ylabel('Height')\n",
    "ax[0].legend()\n",
    "ax[0].grid()\n",
    "\n",
    "# Width\n",
    "ax[1].plot([0.1, 0.3, 0.5, 0.7, 0.9, 1.1, 1.3, 1.5], np.mean(total_widths, axis=1), 'o-', label='Mean')\n",
    "ax[1].fill_between([0.1, 0.3, 0.5, 0.7, 0.9, 1.1, 1.3, 1.5], np.mean(total_widths, axis=1) - np.std(total_widths, axis=1), np.mean(total_widths, axis=1) + np.std(total_widths, axis=1), alpha=0.3, label='Standard deviation')\n",
    "ax[1].set_xlabel(r'$\\eta$')\n",
    "ax[1].set_ylabel('Width')\n",
    "ax[1].legend()\n",
    "ax[1].grid()\n",
    "\n",
    "# Density\n",
    "ax[2].plot([0.1, 0.3, 0.5, 0.7, 0.9, 1.1, 1.3, 1.5], max_size / (np.mean(total_heights, axis=1) * np.mean(total_widths, axis=1)), 'o-', label='Mean')\n",
    "ax[2].set_xlabel(r'$\\eta$')\n",
    "ax[2].set_ylabel('Density')\n",
    "ax[2].legend()\n",
    "ax[2].grid()\n",
    "\n",
    "\n",
    "plt.suptitle('DLA simulation cluster properties')\n",
    "plt.tight_layout()\n",
    "plt.savefig('fig/cluster_properties.png', dpi=300)\n",
    "plt.show()\n"
   ]
  },
  {
   "cell_type": "markdown",
   "metadata": {},
   "source": [
    "### Find optimal omega"
   ]
  },
  {
   "cell_type": "code",
   "execution_count": null,
   "metadata": {},
   "outputs": [],
   "source": [
    "results = find_optimal_omega()"
   ]
  },
  {
   "cell_type": "markdown",
   "metadata": {},
   "source": [
    "### Plot results"
   ]
  },
  {
   "cell_type": "code",
   "execution_count": null,
   "metadata": {},
   "outputs": [],
   "source": [
    "plt.plot(np.linspace(1.0, 1.9, 10), results[:, 0], label=\"Average convergence time\")\n",
    "plt.fill_between(np.linspace(1.0, 1.9, 10), results[:, 0] - results[:, 1], results[:, 0] + results[:, 1], alpha=0.2, label=\"Standard deviation\")\n",
    "plt.xlabel(\"Omega\")\n",
    "plt.ylabel(\"Iterations\")\n",
    "plt.legend()\n",
    "plt.grid()\n",
    "plt.title(\"Omega values vs convergence time\")\n",
    "plt.show()"
   ]
  },
  {
   "cell_type": "markdown",
   "metadata": {},
   "source": [
    "### Calculate execution times"
   ]
  },
  {
   "cell_type": "code",
   "execution_count": null,
   "metadata": {},
   "outputs": [],
   "source": [
    "utimes = []\n",
    "otimes = []\n",
    "st = time.time()\n",
    "for N in [100, 150, 200, 250]:\n",
    "    st = time.time()\n",
    "    for r in range(10):\n",
    "        grid = np.zeros((N, N))\n",
    "        grid[0, :] = 1.0\n",
    "        mask = init_mask(N)\n",
    "        _, _, _ = dla_simulation(omega, 1, grid, 1000, N, 1e-5, mask, False)\n",
    "    utimes.append((time.time() - st)/10)\n",
    "    print(f\"Unoptimized N = {N} done\")\n",
    "\n",
    "\n",
    "for N in [100, 150, 200, 250]:\n",
    "    st = time.time()\n",
    "    for r in range(10):\n",
    "        grid = np.zeros((N, N))\n",
    "        grid[0, :] = 1.0\n",
    "        mask = init_mask(N)\n",
    "        _, _, _ = dla_simulation(omega, 1, grid, 1000, N, 1e-5, mask, True)\n",
    "    otimes.append((time.time() - st)/10)\n",
    "    print(f\"Optimized N = {N} done\")"
   ]
  },
  {
   "cell_type": "markdown",
   "metadata": {},
   "source": [
    "### Plot excecution times"
   ]
  },
  {
   "cell_type": "code",
   "execution_count": null,
   "metadata": {},
   "outputs": [],
   "source": [
    "plt.plot([100, 150, 200, 250], utimes, label=\"Unoptimized\")\n",
    "plt.plot([100, 150, 200, 250], otimes, label=\"Optimized\")\n",
    "plt.xlabel(\"N\")\n",
    "plt.ylabel(\"Time [s]\")\n",
    "plt.legend()\n",
    "plt.grid()\n",
    "plt.title(\"Optimization comparison\")\n",
    "plt.show()\n"
   ]
  },
  {
   "cell_type": "markdown",
   "metadata": {},
   "source": [
    "### Define parameters for monte carlo simulation"
   ]
  },
  {
   "cell_type": "code",
   "execution_count": null,
   "metadata": {},
   "outputs": [],
   "source": [
    "height = 100\n",
    "width = 100\n",
    "size = 1000\n",
    "\n",
    "p_s_vals = np.linspace(0.1, 1, 6)\n",
    "max_steps = 50_000\n",
    "num_runs = 10  \n",
    "seed = (height - 1, (width // 2))"
   ]
  },
  {
   "cell_type": "markdown",
   "metadata": {},
   "source": [
    "### Run parameter sweep (with current settings runtime is about 15 minutes)"
   ]
  },
  {
   "cell_type": "code",
   "execution_count": null,
   "metadata": {},
   "outputs": [],
   "source": [
    "visualization_results, avg_densities, avg_heights, avg_widths, std_densities, std_heights, std_widths, all_results = p_sweep(\n",
    "        height, width, size, p_s_vals, max_steps, seed, num_runs\n",
    "    )"
   ]
  },
  {
   "cell_type": "markdown",
   "metadata": {},
   "source": [
    "### Plot example clusters"
   ]
  },
  {
   "cell_type": "code",
   "execution_count": null,
   "metadata": {},
   "outputs": [],
   "source": [
    "plot_p_sweep(visualization_results, p_s_vals, save=True)"
   ]
  },
  {
   "cell_type": "markdown",
   "metadata": {},
   "source": [
    "### Plot cluster statistics"
   ]
  },
  {
   "cell_type": "code",
   "execution_count": null,
   "metadata": {},
   "outputs": [],
   "source": [
    "plot_metrics(p_s_vals, avg_densities, avg_heights, avg_widths,\n",
    "                 std_densities, std_heights, std_widths, save=True)"
   ]
  },
  {
   "cell_type": "markdown",
   "metadata": {},
   "source": [
    "### Gray-Scott plotting"
   ]
  },
  {
   "cell_type": "code",
   "execution_count": null,
   "metadata": {},
   "outputs": [],
   "source": [
    "# Simulation parameters\n",
    "N = 200\n",
    "Du, Dv = 0.16, 0.08\n",
    "f, k = 0.035, 0.060\n",
    "dt, steps = 1.0, 10000\n",
    "bc_type = \"periodic\" # Change boundary condition type here\n",
    "\n",
    "u, v = gray_scott_simulation(N, Du, Dv, f, k, dt, steps, bc_type)\n",
    "\n",
    "# Set global font size\n",
    "plt.rcParams.update({'font.size': 20})\n",
    "\n",
    "# Create figure with tight layout to remove whitespace\n",
    "fig, ax = plt.subplots(figsize=(8, 8), tight_layout=True)\n",
    "im = ax.imshow(v, cmap='inferno')\n",
    "\n",
    "ax.set_title(f'Gray-Scott Model ({bc_type} BC)')\n",
    "cbar = fig.colorbar(im, ax=ax, fraction=0.046)"
   ]
  }
 ],
 "metadata": {
  "kernelspec": {
   "display_name": "Python 3",
   "language": "python",
   "name": "python3"
  },
  "language_info": {
   "codemirror_mode": {
    "name": "ipython",
    "version": 3
   },
   "file_extension": ".py",
   "mimetype": "text/x-python",
   "name": "python",
   "nbconvert_exporter": "python",
   "pygments_lexer": "ipython3",
   "version": "3.12.0"
  }
 },
 "nbformat": 4,
 "nbformat_minor": 2
}
